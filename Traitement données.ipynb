{
 "cells": [
  {
   "cell_type": "code",
   "execution_count": 1,
   "metadata": {},
   "outputs": [],
   "source": [
    "import os\n",
    "import re\n",
    "import numpy as np"
   ]
  },
  {
   "cell_type": "code",
   "execution_count": null,
   "metadata": {},
   "outputs": [],
   "source": [
    "# Get all .txt files in the directory and adding \"Data_1d_10y\" before the extension\n",
    "directory = \"Data/CAC40 daily 10y\"\n",
    "for filename in os.listdir(directory):\n",
    "    if filename.endswith(\".txt\") and \"_Data_1d_10y\" not in filename:\n",
    "        # Create new filename by adding \"Data_1d_10y\" before the extension\n",
    "        new_filename = filename.replace(\".txt\", \"_Data_1d_10y.txt\")\n",
    "        \n",
    "        # Create full file paths\n",
    "        old_file = os.path.join(directory, filename)\n",
    "        new_file = os.path.join(directory, new_filename)\n",
    "        \n",
    "        # Rename the file\n",
    "        os.rename(old_file, new_file)\n",
    "        print(f\"Renamed: {filename} -> {new_filename}\")\n",
    "\n",
    "# Get all .txt files in the directory and adding \"Data_1min_5d\" before the extension\n",
    "directory = \"Data/CAC40 min 5d\"\n",
    "for filename in os.listdir(directory):\n",
    "    if filename.endswith(\".txt\") and \"Data_1min_5d\" not in filename:\n",
    "        # Create new filename by adding \"Data_1d_10y\" before the extension\n",
    "        new_filename = filename.replace(\".txt\", \"Data_1min_5d.txt\")\n",
    "        \n",
    "        # Create full file paths\n",
    "        old_file = os.path.join(directory, filename)\n",
    "        new_file = os.path.join(directory, new_filename)\n",
    "        \n",
    "        # Rename the file\n",
    "        os.rename(old_file, new_file)\n",
    "        print(f\"Renamed: {filename} -> {new_filename}\")\n"
   ]
  },
  {
   "cell_type": "code",
   "execution_count": null,
   "metadata": {},
   "outputs": [],
   "source": []
  }
 ],
 "metadata": {
  "kernelspec": {
   "display_name": "Python 3",
   "language": "python",
   "name": "python3"
  },
  "language_info": {
   "codemirror_mode": {
    "name": "ipython",
    "version": 3
   },
   "file_extension": ".py",
   "mimetype": "text/x-python",
   "name": "python",
   "nbconvert_exporter": "python",
   "pygments_lexer": "ipython3",
   "version": "3.10.11"
  }
 },
 "nbformat": 4,
 "nbformat_minor": 2
}
