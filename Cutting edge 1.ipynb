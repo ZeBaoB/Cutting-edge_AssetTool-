{
 "cells": [
  {
   "cell_type": "code",
   "execution_count": 1,
   "metadata": {},
   "outputs": [],
   "source": [
    "import numpy as np\n",
    "import matplotlib.pyplot as plt\n",
    "import pandas as pd\n",
    "import yfinance as yf\n",
    "import re"
   ]
  },
  {
   "cell_type": "markdown",
   "metadata": {},
   "source": [
    "Import de données"
   ]
  },
  {
   "cell_type": "code",
   "execution_count": 2,
   "metadata": {},
   "outputs": [],
   "source": [
    "CAC40_txt = \"\"\"Accor SA (AC.PA)\n",
    "L'Air Liquide S.A. (AI.PA)\n",
    "Airbus SE (AIR.PA)\n",
    "ArcelorMittal S.A. (MT.AS)\n",
    "AXA SA (CS.PA)\n",
    "BNP Paribas SA (BNP.PA)\n",
    "Bouygues SA (EN.PA)\n",
    "Bureau Veritas SA (BVI.PA)\n",
    "Capgemini SE (CAP.PA)\n",
    "Carrefour SA (CA.PA)\n",
    "Crédit Agricole S.A. (ACA.PA)\n",
    "Danone S.A. (BN.PA)\n",
    "Dassault Systèmes SE (DSY.PA)\n",
    "Edenred SE (EDEN.PA)\n",
    "Engie SA (ENGI.PA)\n",
    "EssilorLuxottica Société anonyme (EL.PA)\n",
    "Eurofins Scientific SE (ERF.PA)\n",
    "Hermès International (RMS.PA)\n",
    "Kering SA (KER.PA)\n",
    "Legrand SA (LR.PA)\n",
    "L'Oréal S.A. (OR.PA)\n",
    "LVMH (MC.PA)\n",
    "Michelin (ML.PA)\n",
    "Orange S.A. (ORA.PA)\n",
    "Pernod Ricard SA (RI.PA)\n",
    "Publicis Groupe S.A. (PUB.PA)\n",
    "Renault SA (RNO.PA)\n",
    "Safran SA (SAF.PA)\n",
    "Compagnie de Saint-Gobain S.A. (SGO.PA)\n",
    "Sanofi (SAN.PA)\n",
    "Schneider Electric S.E. (SU.PA)\n",
    "Société Générale (GLE.PA)\n",
    "Stellantis N.V. (STLAP.PA)\n",
    "STMicroelectronics N.V. (STMPA.PA)\n",
    "Teleperformance SE (TEP.PA)\n",
    "Thales S.A. (HO.PA)\n",
    "TotalEnergies SE (TTE.PA)\n",
    "Unibail-Rodamco-Westfield SE (URW.PA)\n",
    "Veolia Environnement SA (VIE.PA)\n",
    "Vinci SA (DG.PA)\"\"\"\n",
    "\n",
    "tickers_CAC40 = re.findall(r'\\(([^)]+)\\)', CAC40_txt)"
   ]
  },
  {
   "cell_type": "code",
   "execution_count": 3,
   "metadata": {},
   "outputs": [
    {
     "name": "stderr",
     "output_type": "stream",
     "text": [
      "[*********************100%***********************]  40 of 40 completed\n",
      "[*********************100%***********************]  40 of 40 completed\n"
     ]
    }
   ],
   "source": [
    "histo_CAC40 = yf.download(tickers = tickers_CAC40, start = '2015-01-01',end = '2025-02-01')[\"Close\"]\n",
    "histo_CAC40_maille1h =  yf.download(tickers = tickers_CAC40, start = '2024-01-01',end = '2025-02-01', interval='1h')[\"Close\"]"
   ]
  },
  {
   "cell_type": "code",
   "execution_count": 4,
   "metadata": {},
   "outputs": [
    {
     "name": "stdout",
     "output_type": "stream",
     "text": [
      "(2583, 40)\n"
     ]
    },
    {
     "data": {
      "text/plain": [
       "Date\n",
       "2015-01-02    48.126030\n",
       "2015-01-05    47.900623\n",
       "2015-01-06    47.124268\n",
       "2015-01-07    47.216095\n",
       "2015-01-08    48.142715\n",
       "2015-01-09    47.666882\n",
       "2015-01-12    49.920837\n",
       "2015-01-13    50.104492\n",
       "2015-01-14    49.879093\n",
       "2015-01-15    50.588669\n",
       "Name: TEP.PA, dtype: float64"
      ]
     },
     "execution_count": 4,
     "metadata": {},
     "output_type": "execute_result"
    }
   ],
   "source": [
    "print(histo_CAC40.shape)\n",
    "histo_CAC40[\"TEP.PA\"].head(10)"
   ]
  },
  {
   "cell_type": "markdown",
   "metadata": {},
   "source": [
    "Data cleaning"
   ]
  },
  {
   "cell_type": "code",
   "execution_count": 5,
   "metadata": {},
   "outputs": [
    {
     "name": "stdout",
     "output_type": "stream",
     "text": [
      "MT.AS 1\n",
      "URW.PA 2122\n"
     ]
    }
   ],
   "source": [
    "nan_par_colonne = {col: histo_CAC40.index[histo_CAC40[col].isna()].tolist() for col in histo_CAC40.columns}\n",
    "for col in histo_CAC40.columns:\n",
    "    taille_liste = len(nan_par_colonne[col])\n",
    "    print(col, len(nan_par_colonne[col])) if taille_liste > 0 else next\n",
    "    #print(col, len(nan_par_colonne[col]), nan_par_colonne[col]) if taille_liste > 0 else next\n"
   ]
  },
  {
   "cell_type": "code",
   "execution_count": 6,
   "metadata": {},
   "outputs": [
    {
     "name": "stdout",
     "output_type": "stream",
     "text": [
      "0\n",
      "(2583, 38)\n"
     ]
    }
   ],
   "source": [
    "histo_CAC40_sans_MT_URW = histo_CAC40.drop(columns=[\"URW.PA\", \"MT.AS\"])\n",
    "print(int(histo_CAC40_sans_MT_URW.isna().sum().sum()))\n",
    "print(histo_CAC40_sans_MT_URW.shape)"
   ]
  },
  {
   "cell_type": "markdown",
   "metadata": {},
   "source": [
    "Calcul des rendements, volatilités et corrélations"
   ]
  },
  {
   "cell_type": "code",
   "execution_count": 7,
   "metadata": {},
   "outputs": [
    {
     "name": "stdout",
     "output_type": "stream",
     "text": [
      "Rendements annuels :\n",
      "Ticker\n",
      "AC.PA     0.043649\n",
      "ACA.PA    0.088683\n",
      "AI.PA     0.112176\n",
      "AIR.PA    0.150802\n",
      "BN.PA     0.052707\n",
      "dtype: float64\n"
     ]
    }
   ],
   "source": [
    "data = histo_CAC40_sans_MT_URW\n",
    "# Calcul du vecteur de rendement moyen annuel\n",
    "mu_annuel = np.log((data.iloc[-1, :]/data.iloc[0,:])) / (data.index[-1] - data.index[0]).days * 365.25\n",
    "\n",
    "print(\"Rendements annuels :\")\n",
    "print(mu_annuel.head())"
   ]
  },
  {
   "cell_type": "code",
   "execution_count": 8,
   "metadata": {},
   "outputs": [
    {
     "name": "stdout",
     "output_type": "stream",
     "text": [
      "\n",
      "Volatilités :\n",
      "Ticker\n",
      "AC.PA     0.319046\n",
      "ACA.PA    0.309398\n",
      "AI.PA     0.206439\n",
      "AIR.PA    0.351973\n",
      "BN.PA     0.194999\n",
      "dtype: float64\n"
     ]
    }
   ],
   "source": [
    "delta_année = data.index.to_series().diff().dt.days.iloc[1:] / 365.25\n",
    "deltat_r = pd.DataFrame(delta_année.values[:, None] * mu_annuel.values, columns=mu_annuel.index, index=delta_année.index)\n",
    "nb_jour_pan = data.shape[0] / (data.index[-1] - data.index[0]).days * 365.25\n",
    "Volatilite_annuel = np.sqrt((np.log((data/data.shift(1)).iloc[1:,:]) - deltat_r).var() * nb_jour_pan)\n",
    "mat_correlation = (np.log((data/data.shift(1)).iloc[1:,:]) - deltat_r).corr()\n",
    "\n",
    "print(\"\\nVolatilités :\")\n",
    "print(Volatilite_annuel.head())"
   ]
  },
  {
   "cell_type": "code",
   "execution_count": 9,
   "metadata": {},
   "outputs": [
    {
     "name": "stdout",
     "output_type": "stream",
     "text": [
      "\n",
      "Matrice de correlation :\n",
      "Ticker     AC.PA    ACA.PA     AI.PA    AIR.PA     BN.PA    BNP.PA    BVI.PA\n",
      "Ticker                                                                      \n",
      "AC.PA   1.000000  0.585502  0.428098  0.634105  0.354309  0.602450  0.451828\n",
      "ACA.PA  0.585502  1.000000  0.480506  0.558192  0.339130  0.853126  0.470121\n",
      "AI.PA   0.428098  0.480506  1.000000  0.484603  0.499491  0.499644  0.519341\n",
      "AIR.PA  0.634105  0.558192  0.484603  1.000000  0.373528  0.591485  0.465776\n",
      "BN.PA   0.354309  0.339130  0.499491  0.373528  1.000000  0.367019  0.406833\n",
      "BNP.PA  0.602450  0.853126  0.499644  0.591485  0.367019  1.000000  0.471934\n",
      "BVI.PA  0.451828  0.470121  0.519341  0.465776  0.406833  0.471934  1.000000\n"
     ]
    }
   ],
   "source": [
    "print(\"\\nMatrice de correlation :\")\n",
    "print(mat_correlation.iloc[ :7, :7])"
   ]
  }
 ],
 "metadata": {
  "kernelspec": {
   "display_name": "Python 3",
   "language": "python",
   "name": "python3"
  },
  "language_info": {
   "codemirror_mode": {
    "name": "ipython",
    "version": 3
   },
   "file_extension": ".py",
   "mimetype": "text/x-python",
   "name": "python",
   "nbconvert_exporter": "python",
   "pygments_lexer": "ipython3",
   "version": "3.10.11"
  }
 },
 "nbformat": 4,
 "nbformat_minor": 2
}
