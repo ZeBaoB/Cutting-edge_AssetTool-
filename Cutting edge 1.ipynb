{
 "cells": [
  {
   "cell_type": "code",
   "execution_count": 1,
   "metadata": {},
   "outputs": [],
   "source": [
    "import numpy as np\n",
    "import matplotlib.pyplot as plt\n",
    "import pandas as pd\n",
    "import yfinance as yf\n",
    "import re"
   ]
  },
  {
   "cell_type": "markdown",
   "metadata": {},
   "source": [
    "Import de données"
   ]
  },
  {
   "cell_type": "code",
   "execution_count": 2,
   "metadata": {},
   "outputs": [],
   "source": [
    "CAC40_txt = \"\"\"Accor SA (AC.PA)\n",
    "L'Air Liquide S.A. (AI.PA)\n",
    "Airbus SE (AIR.PA)\n",
    "ArcelorMittal S.A. (MT.AS)\n",
    "AXA SA (CS.PA)\n",
    "BNP Paribas SA (BNP.PA)\n",
    "Bouygues SA (EN.PA)\n",
    "Bureau Veritas SA (BVI.PA)\n",
    "Capgemini SE (CAP.PA)\n",
    "Carrefour SA (CA.PA)\n",
    "Crédit Agricole S.A. (ACA.PA)\n",
    "Danone S.A. (BN.PA)\n",
    "Dassault Systèmes SE (DSY.PA)\n",
    "Edenred SE (EDEN.PA)\n",
    "Engie SA (ENGI.PA)\n",
    "EssilorLuxottica Société anonyme (EL.PA)\n",
    "Eurofins Scientific SE (ERF.PA)\n",
    "Hermès International (RMS.PA)\n",
    "Kering SA (KER.PA)\n",
    "Legrand SA (LR.PA)\n",
    "L'Oréal S.A. (OR.PA)\n",
    "LVMH (MC.PA)\n",
    "Michelin (ML.PA)\n",
    "Orange S.A. (ORA.PA)\n",
    "Pernod Ricard SA (RI.PA)\n",
    "Publicis Groupe S.A. (PUB.PA)\n",
    "Renault SA (RNO.PA)\n",
    "Safran SA (SAF.PA)\n",
    "Compagnie de Saint-Gobain S.A. (SGO.PA)\n",
    "Sanofi (SAN.PA)\n",
    "Schneider Electric S.E. (SU.PA)\n",
    "Société Générale (GLE.PA)\n",
    "Stellantis N.V. (STLAP.PA)\n",
    "STMicroelectronics N.V. (STMPA.PA)\n",
    "Teleperformance SE (TEP.PA)\n",
    "Thales S.A. (HO.PA)\n",
    "TotalEnergies SE (TTE.PA)\n",
    "Unibail-Rodamco-Westfield SE (URW.PA)\n",
    "Veolia Environnement SA (VIE.PA)\n",
    "Vinci SA (DG.PA)\"\"\"\n",
    "\n",
    "tickers_CAC40 = re.findall(r'\\(([^)]+)\\)', CAC40_txt)"
   ]
  },
  {
   "cell_type": "code",
   "execution_count": 3,
   "metadata": {},
   "outputs": [
    {
     "name": "stderr",
     "output_type": "stream",
     "text": [
      "[*********************100%***********************]  40 of 40 completed\n",
      "[*********************100%***********************]  40 of 40 completed\n"
     ]
    }
   ],
   "source": [
    "histo_CAC40 = yf.download(tickers = tickers_CAC40, start = '2015-01-01',end = '2025-02-01')[\"Close\"]\n",
    "histo_CAC40_maille1h =  yf.download(tickers = tickers_CAC40, start = '2024-01-01',end = '2025-02-01', interval='1h')[\"Close\"]"
   ]
  },
  {
   "cell_type": "code",
   "execution_count": 4,
   "metadata": {},
   "outputs": [
    {
     "name": "stdout",
     "output_type": "stream",
     "text": [
      "(2583, 40)\n"
     ]
    },
    {
     "data": {
      "text/plain": [
       "Date\n",
       "2015-01-02    48.126026\n",
       "2015-01-05    47.900635\n",
       "2015-01-06    47.124264\n",
       "2015-01-07    47.216095\n",
       "2015-01-08    48.142715\n",
       "2015-01-09    47.666882\n",
       "2015-01-12    49.920834\n",
       "2015-01-13    50.104488\n",
       "2015-01-14    49.879097\n",
       "2015-01-15    50.588673\n",
       "Name: TEP.PA, dtype: float64"
      ]
     },
     "execution_count": 4,
     "metadata": {},
     "output_type": "execute_result"
    }
   ],
   "source": [
    "print(histo_CAC40.shape)\n",
    "histo_CAC40[\"TEP.PA\"].head(10)"
   ]
  },
  {
   "cell_type": "markdown",
   "metadata": {},
   "source": [
    "Data cleaning"
   ]
  },
  {
   "cell_type": "code",
   "execution_count": 5,
   "metadata": {},
   "outputs": [
    {
     "name": "stdout",
     "output_type": "stream",
     "text": [
      "MT.AS 1\n",
      "URW.PA 2122\n"
     ]
    }
   ],
   "source": [
    "nan_par_colonne = {col: histo_CAC40.index[histo_CAC40[col].isna()].tolist() for col in histo_CAC40.columns}\n",
    "for col in histo_CAC40.columns:\n",
    "    taille_liste = len(nan_par_colonne[col])\n",
    "    print(col, len(nan_par_colonne[col])) if taille_liste > 0 else next\n",
    "    #print(col, len(nan_par_colonne[col]), nan_par_colonne[col]) if taille_liste > 0 else next\n"
   ]
  },
  {
   "cell_type": "code",
   "execution_count": 6,
   "metadata": {},
   "outputs": [
    {
     "name": "stdout",
     "output_type": "stream",
     "text": [
      "0\n",
      "(2583, 38)\n"
     ]
    }
   ],
   "source": [
    "histo_CAC40_sans_MT_URW = histo_CAC40.drop(columns=[\"URW.PA\", \"MT.AS\"])\n",
    "print(int(histo_CAC40_sans_MT_URW.isna().sum().sum()))\n",
    "print(histo_CAC40_sans_MT_URW.shape)"
   ]
  },
  {
   "cell_type": "markdown",
   "metadata": {},
   "source": [
    "Calcul des rendements, volatilités et corrélations"
   ]
  },
  {
   "cell_type": "code",
   "execution_count": 7,
   "metadata": {},
   "outputs": [
    {
     "name": "stdout",
     "output_type": "stream",
     "text": [
      "Rendements annuels :\n",
      "Ticker\n",
      "AC.PA     0.042511\n",
      "ACA.PA    0.088683\n",
      "AI.PA     0.112176\n",
      "AIR.PA    0.151292\n",
      "BN.PA     0.052707\n",
      "dtype: float64\n"
     ]
    }
   ],
   "source": [
    "data = histo_CAC40_sans_MT_URW\n",
    "# Calcul du vecteur de rendement moyen annuel\n",
    "mu_annuel = np.log((data.iloc[-1, :]/data.iloc[0,:])) / (data.index[-1] - data.index[0]).days * 365.25\n",
    "\n",
    "print(\"Rendements annuels :\")\n",
    "print(mu_annuel.head())"
   ]
  },
  {
   "cell_type": "code",
   "execution_count": 8,
   "metadata": {},
   "outputs": [
    {
     "name": "stdout",
     "output_type": "stream",
     "text": [
      "\n",
      "Volatilités :\n",
      "Ticker\n",
      "AC.PA     0.319046\n",
      "ACA.PA    0.309398\n",
      "AI.PA     0.206439\n",
      "AIR.PA    0.351973\n",
      "BN.PA     0.194999\n",
      "dtype: float64\n"
     ]
    }
   ],
   "source": [
    "delta_année = data.index.to_series().diff().dt.days.iloc[1:] / 365.25\n",
    "deltat_r = pd.DataFrame(delta_année.values[:, None] * mu_annuel.values, columns=mu_annuel.index, index=delta_année.index)\n",
    "nb_jour_pan = data.shape[0] / (data.index[-1] - data.index[0]).days * 365.25\n",
    "Volatilite_annuel = np.sqrt((np.log((data/data.shift(1)).iloc[1:,:]) - deltat_r).var() * nb_jour_pan)\n",
    "mat_correlation = (np.log((data/data.shift(1)).iloc[1:,:]) - deltat_r).corr()\n",
    "\n",
    "print(\"\\nVolatilités :\")\n",
    "print(Volatilite_annuel.head())"
   ]
  },
  {
   "cell_type": "code",
   "execution_count": 9,
   "metadata": {},
   "outputs": [
    {
     "name": "stdout",
     "output_type": "stream",
     "text": [
      "\n",
      "Matrice de correlation :\n",
      "Ticker     AC.PA    ACA.PA     AI.PA    AIR.PA     BN.PA    BNP.PA    BVI.PA\n",
      "Ticker                                                                      \n",
      "AC.PA   1.000000  0.585502  0.428098  0.634105  0.354309  0.602450  0.451828\n",
      "ACA.PA  0.585502  1.000000  0.480506  0.558192  0.339130  0.853126  0.470121\n",
      "AI.PA   0.428098  0.480506  1.000000  0.484603  0.499491  0.499644  0.519341\n",
      "AIR.PA  0.634105  0.558192  0.484603  1.000000  0.373528  0.591485  0.465776\n",
      "BN.PA   0.354309  0.339130  0.499491  0.373528  1.000000  0.367019  0.406833\n",
      "BNP.PA  0.602450  0.853126  0.499644  0.591485  0.367019  1.000000  0.471934\n",
      "BVI.PA  0.451828  0.470121  0.519341  0.465776  0.406833  0.471934  1.000000\n"
     ]
    }
   ],
   "source": [
    "print(\"\\nMatrice de correlation :\")\n",
    "print(mat_correlation.iloc[ :7, :7])"
   ]
  },
  {
   "cell_type": "code",
   "execution_count": 59,
   "metadata": {},
   "outputs": [
    {
     "data": {
      "text/html": [
       "<div>\n",
       "<style scoped>\n",
       "    .dataframe tbody tr th:only-of-type {\n",
       "        vertical-align: middle;\n",
       "    }\n",
       "\n",
       "    .dataframe tbody tr th {\n",
       "        vertical-align: top;\n",
       "    }\n",
       "\n",
       "    .dataframe thead th {\n",
       "        text-align: right;\n",
       "    }\n",
       "</style>\n",
       "<table border=\"1\" class=\"dataframe\">\n",
       "  <thead>\n",
       "    <tr style=\"text-align: right;\">\n",
       "      <th>Ticker</th>\n",
       "      <th>AC.PA</th>\n",
       "      <th>ACA.PA</th>\n",
       "      <th>AI.PA</th>\n",
       "      <th>AIR.PA</th>\n",
       "      <th>BN.PA</th>\n",
       "      <th>BNP.PA</th>\n",
       "      <th>BVI.PA</th>\n",
       "      <th>CA.PA</th>\n",
       "      <th>CAP.PA</th>\n",
       "      <th>CS.PA</th>\n",
       "      <th>...</th>\n",
       "      <th>RNO.PA</th>\n",
       "      <th>SAF.PA</th>\n",
       "      <th>SAN.PA</th>\n",
       "      <th>SGO.PA</th>\n",
       "      <th>STLAP.PA</th>\n",
       "      <th>STMPA.PA</th>\n",
       "      <th>SU.PA</th>\n",
       "      <th>TEP.PA</th>\n",
       "      <th>TTE.PA</th>\n",
       "      <th>VIE.PA</th>\n",
       "    </tr>\n",
       "    <tr>\n",
       "      <th>Date</th>\n",
       "      <th></th>\n",
       "      <th></th>\n",
       "      <th></th>\n",
       "      <th></th>\n",
       "      <th></th>\n",
       "      <th></th>\n",
       "      <th></th>\n",
       "      <th></th>\n",
       "      <th></th>\n",
       "      <th></th>\n",
       "      <th></th>\n",
       "      <th></th>\n",
       "      <th></th>\n",
       "      <th></th>\n",
       "      <th></th>\n",
       "      <th></th>\n",
       "      <th></th>\n",
       "      <th></th>\n",
       "      <th></th>\n",
       "      <th></th>\n",
       "      <th></th>\n",
       "    </tr>\n",
       "  </thead>\n",
       "  <tbody>\n",
       "    <tr>\n",
       "      <th>2015-01-02</th>\n",
       "      <td>0.000000</td>\n",
       "      <td>0.000000</td>\n",
       "      <td>0.000000</td>\n",
       "      <td>0.000000</td>\n",
       "      <td>0.000000</td>\n",
       "      <td>0.000000</td>\n",
       "      <td>0.000000</td>\n",
       "      <td>0.000000</td>\n",
       "      <td>0.000000</td>\n",
       "      <td>0.000000</td>\n",
       "      <td>...</td>\n",
       "      <td>0.000000</td>\n",
       "      <td>0.000000</td>\n",
       "      <td>0.000000</td>\n",
       "      <td>0.000000</td>\n",
       "      <td>0.0</td>\n",
       "      <td>0.000000</td>\n",
       "      <td>0.000000</td>\n",
       "      <td>0.000000</td>\n",
       "      <td>0.000000</td>\n",
       "      <td>0.000000</td>\n",
       "    </tr>\n",
       "    <tr>\n",
       "      <th>2015-01-05</th>\n",
       "      <td>-0.012959</td>\n",
       "      <td>-0.046957</td>\n",
       "      <td>-0.031456</td>\n",
       "      <td>0.003006</td>\n",
       "      <td>-0.025956</td>\n",
       "      <td>-0.049772</td>\n",
       "      <td>-0.045848</td>\n",
       "      <td>-0.049668</td>\n",
       "      <td>-0.013396</td>\n",
       "      <td>-0.037881</td>\n",
       "      <td>...</td>\n",
       "      <td>-0.035515</td>\n",
       "      <td>-0.001961</td>\n",
       "      <td>-0.029187</td>\n",
       "      <td>-0.044038</td>\n",
       "      <td>0.0</td>\n",
       "      <td>-0.015053</td>\n",
       "      <td>-0.044512</td>\n",
       "      <td>-0.004694</td>\n",
       "      <td>-0.061713</td>\n",
       "      <td>-0.025169</td>\n",
       "    </tr>\n",
       "    <tr>\n",
       "      <th>2015-01-06</th>\n",
       "      <td>-0.021146</td>\n",
       "      <td>-0.019418</td>\n",
       "      <td>-0.008380</td>\n",
       "      <td>0.022905</td>\n",
       "      <td>-0.003053</td>\n",
       "      <td>-0.026501</td>\n",
       "      <td>-0.007134</td>\n",
       "      <td>-0.007995</td>\n",
       "      <td>-0.039369</td>\n",
       "      <td>-0.010935</td>\n",
       "      <td>...</td>\n",
       "      <td>-0.005203</td>\n",
       "      <td>0.006846</td>\n",
       "      <td>0.003270</td>\n",
       "      <td>-0.016026</td>\n",
       "      <td>0.0</td>\n",
       "      <td>-0.010822</td>\n",
       "      <td>0.001394</td>\n",
       "      <td>-0.016341</td>\n",
       "      <td>-0.001502</td>\n",
       "      <td>-0.014065</td>\n",
       "    </tr>\n",
       "    <tr>\n",
       "      <th>2015-01-07</th>\n",
       "      <td>0.004983</td>\n",
       "      <td>-0.014318</td>\n",
       "      <td>0.004505</td>\n",
       "      <td>0.025714</td>\n",
       "      <td>0.011592</td>\n",
       "      <td>-0.016844</td>\n",
       "      <td>0.002003</td>\n",
       "      <td>-0.001057</td>\n",
       "      <td>0.004199</td>\n",
       "      <td>0.010663</td>\n",
       "      <td>...</td>\n",
       "      <td>-0.002263</td>\n",
       "      <td>0.016625</td>\n",
       "      <td>0.010555</td>\n",
       "      <td>-0.002722</td>\n",
       "      <td>0.0</td>\n",
       "      <td>0.020720</td>\n",
       "      <td>0.006250</td>\n",
       "      <td>0.001947</td>\n",
       "      <td>0.022417</td>\n",
       "      <td>0.007760</td>\n",
       "    </tr>\n",
       "    <tr>\n",
       "      <th>2015-01-08</th>\n",
       "      <td>0.019824</td>\n",
       "      <td>0.024074</td>\n",
       "      <td>0.041231</td>\n",
       "      <td>0.033509</td>\n",
       "      <td>0.028496</td>\n",
       "      <td>0.031905</td>\n",
       "      <td>0.024281</td>\n",
       "      <td>0.044461</td>\n",
       "      <td>0.028064</td>\n",
       "      <td>0.040506</td>\n",
       "      <td>...</td>\n",
       "      <td>0.037960</td>\n",
       "      <td>0.029469</td>\n",
       "      <td>0.041269</td>\n",
       "      <td>0.039628</td>\n",
       "      <td>0.0</td>\n",
       "      <td>0.032879</td>\n",
       "      <td>0.040365</td>\n",
       "      <td>0.019435</td>\n",
       "      <td>0.037854</td>\n",
       "      <td>0.018452</td>\n",
       "    </tr>\n",
       "  </tbody>\n",
       "</table>\n",
       "<p>5 rows × 38 columns</p>\n",
       "</div>"
      ],
      "text/plain": [
       "Ticker         AC.PA    ACA.PA     AI.PA    AIR.PA     BN.PA    BNP.PA  \\\n",
       "Date                                                                     \n",
       "2015-01-02  0.000000  0.000000  0.000000  0.000000  0.000000  0.000000   \n",
       "2015-01-05 -0.012959 -0.046957 -0.031456  0.003006 -0.025956 -0.049772   \n",
       "2015-01-06 -0.021146 -0.019418 -0.008380  0.022905 -0.003053 -0.026501   \n",
       "2015-01-07  0.004983 -0.014318  0.004505  0.025714  0.011592 -0.016844   \n",
       "2015-01-08  0.019824  0.024074  0.041231  0.033509  0.028496  0.031905   \n",
       "\n",
       "Ticker        BVI.PA     CA.PA    CAP.PA     CS.PA  ...    RNO.PA    SAF.PA  \\\n",
       "Date                                                ...                       \n",
       "2015-01-02  0.000000  0.000000  0.000000  0.000000  ...  0.000000  0.000000   \n",
       "2015-01-05 -0.045848 -0.049668 -0.013396 -0.037881  ... -0.035515 -0.001961   \n",
       "2015-01-06 -0.007134 -0.007995 -0.039369 -0.010935  ... -0.005203  0.006846   \n",
       "2015-01-07  0.002003 -0.001057  0.004199  0.010663  ... -0.002263  0.016625   \n",
       "2015-01-08  0.024281  0.044461  0.028064  0.040506  ...  0.037960  0.029469   \n",
       "\n",
       "Ticker        SAN.PA    SGO.PA  STLAP.PA  STMPA.PA     SU.PA    TEP.PA  \\\n",
       "Date                                                                     \n",
       "2015-01-02  0.000000  0.000000       0.0  0.000000  0.000000  0.000000   \n",
       "2015-01-05 -0.029187 -0.044038       0.0 -0.015053 -0.044512 -0.004694   \n",
       "2015-01-06  0.003270 -0.016026       0.0 -0.010822  0.001394 -0.016341   \n",
       "2015-01-07  0.010555 -0.002722       0.0  0.020720  0.006250  0.001947   \n",
       "2015-01-08  0.041269  0.039628       0.0  0.032879  0.040365  0.019435   \n",
       "\n",
       "Ticker        TTE.PA    VIE.PA  \n",
       "Date                            \n",
       "2015-01-02  0.000000  0.000000  \n",
       "2015-01-05 -0.061713 -0.025169  \n",
       "2015-01-06 -0.001502 -0.014065  \n",
       "2015-01-07  0.022417  0.007760  \n",
       "2015-01-08  0.037854  0.018452  \n",
       "\n",
       "[5 rows x 38 columns]"
      ]
     },
     "execution_count": 59,
     "metadata": {},
     "output_type": "execute_result"
    }
   ],
   "source": [
    "#On travaille à la maille journalière\n",
    "data = histo_CAC40_sans_MT_URW\n",
    "log_return_jounalier_histo = np.log(data/data.shift(1))\n",
    "log_return_jounalier_histo.iloc[0, :] = 0\n",
    "log_return_jounalier_histo.head()"
   ]
  },
  {
   "cell_type": "code",
   "execution_count": null,
   "metadata": {},
   "outputs": [
    {
     "data": {
      "text/plain": [
       "Text(0.5, 1.0, 'Evolution de la stratégie buy and hold (historique)')"
      ]
     },
     "execution_count": 77,
     "metadata": {},
     "output_type": "execute_result"
    },
    {
     "data": {
      "image/png": "[encoded data removed]",
      "text/plain": [
       "<Figure size 640x480 with 1 Axes>"
      ]
     },
     "metadata": {},
     "output_type": "display_data"
    }
   ],
   "source": [
    "nb_stocks = log_return_jounalier_histo.shape[1]\n",
    "\n",
    "allocations_EW = np.ones(nb_stocks) / nb_stocks\n",
    "allocations_random = np.random.rand(nb_stocks)\n",
    "allocations_random /= allocations_random.sum()\n",
    "\n",
    "#evolution stratégie buy and hold\n",
    "evolution_EW_buyandHold  = np.exp(np.cumsum(log_return_jounalier_histo)) * allocations_EW\n",
    "evolution_random_buyandHold = np.exp(np.cumsum(log_return_jounalier_histo)) * allocations_random\n",
    "\n",
    "evolution_EW_buyandHold.sum(axis=1).plot(label=\"EW buy and hold\")\n",
    "evolution_random_buyandHold.sum(axis=1).plot(label=\"Random buy and hold\")\n",
    "plt.legend()\n",
    "plt.grid()\n",
    "plt.title(\"Evolution de la stratégie buy and hold (historique)\")"
   ]
  },
  {
   "cell_type": "code",
   "execution_count": 85,
   "metadata": {},
   "outputs": [
    {
     "data": {
      "text/plain": [
       "Text(0.5, 1.0, 'Evolution de la stratégie rebalancée tous les 5 jours (historique)')"
      ]
     },
     "execution_count": 85,
     "metadata": {},
     "output_type": "execute_result"
    },
    {
     "data": {
      "image/png": "[encoded data removed]",
      "text/plain": [
       "<Figure size 640x480 with 1 Axes>"
      ]
     },
     "metadata": {},
     "output_type": "display_data"
    }
   ],
   "source": [
    "#strategie rebalancement tous les T jours\n",
    "T = 5 # on rebalance tous les T jours \n",
    "\n",
    "evolution_EW_rebalancement5j = log_return_jounalier_histo * 0.0\n",
    "evolution_EW_rebalancement5j.iloc[0, :] = allocations_EW\n",
    "evolution_EW_rebalancement5j.iloc[0:T, :] = np.exp(np.cumsum(log_return_jounalier_histo.iloc[0:T, :])) * evolution_EW_rebalancement5j.iloc[0, :]\n",
    "last_period = 0\n",
    "for i in range(T, log_return_jounalier_histo.shape[0], T):\n",
    "    evolution_EW_rebalancement5j.iloc[i, :] = evolution_EW_rebalancement5j.iloc[i-1, :].sum() * allocations_EW\n",
    "    evolution_EW_rebalancement5j.iloc[i:i+T, :] = np.exp(np.cumsum(log_return_jounalier_histo.iloc[i:i+T, :])) * evolution_EW_rebalancement5j.iloc[i, :]\n",
    "    last_period = i\n",
    "evolution_EW_rebalancement5j.iloc[last_period:, :] = np.exp(np.cumsum(log_return_jounalier_histo.iloc[last_period:, :])) * evolution_EW_rebalancement5j.iloc[last_period-1, :]\n",
    "\n",
    "evolution_EW_buyandHold.sum(axis=1).plot(label=\"EW buy and hold\")\n",
    "evolution_EW_rebalancement5j.sum(axis=1).plot(label=\"EW rebalancé tous les 5 jours\")\n",
    "plt.legend()\n",
    "plt.grid()\n",
    "plt.title(\"Evolution de la stratégie rebalancée tous les 5 jours (historique)\")"
   ]
  },
  {
   "cell_type": "code",
   "execution_count": 83,
   "metadata": {},
   "outputs": [
    {
     "data": {
      "text/plain": [
       "Ticker\n",
       "AC.PA      -9.714451e-17\n",
       "ACA.PA     -8.326673e-17\n",
       "AI.PA      -2.636780e-16\n",
       "AIR.PA     -6.938894e-17\n",
       "BN.PA      -2.220446e-16\n",
       "BNP.PA     -1.249001e-16\n",
       "BVI.PA      2.775558e-16\n",
       "CA.PA       9.714451e-17\n",
       "CAP.PA     -3.885781e-16\n",
       "CS.PA       1.249001e-16\n",
       "DG.PA      -2.914335e-16\n",
       "DSY.PA      2.775558e-16\n",
       "EDEN.PA     8.326673e-17\n",
       "EL.PA      -2.775558e-17\n",
       "EN.PA       0.000000e+00\n",
       "ENGI.PA    -1.387779e-17\n",
       "ERF.PA     -2.775558e-16\n",
       "GLE.PA      9.020562e-17\n",
       "HO.PA      -4.857226e-16\n",
       "KER.PA      1.873501e-16\n",
       "LR.PA      -8.326673e-17\n",
       "MC.PA      -7.216450e-16\n",
       "ML.PA      -1.249001e-16\n",
       "OR.PA      -1.249001e-16\n",
       "ORA.PA     -1.040834e-16\n",
       "PUB.PA     -2.359224e-16\n",
       "RI.PA      -1.665335e-16\n",
       "RMS.PA      2.775558e-16\n",
       "RNO.PA     -3.122502e-17\n",
       "SAF.PA     -5.273559e-16\n",
       "SAN.PA      1.110223e-16\n",
       "SGO.PA     -5.551115e-17\n",
       "STLAP.PA   -1.804112e-16\n",
       "STMPA.PA   -4.857226e-16\n",
       "SU.PA       2.775558e-17\n",
       "TEP.PA     -1.804112e-16\n",
       "TTE.PA     -1.387779e-16\n",
       "VIE.PA      2.359224e-16\n",
       "Name: 2025-01-31 00:00:00, dtype: float64"
      ]
     },
     "execution_count": 83,
     "metadata": {},
     "output_type": "execute_result"
    }
   ],
   "source": [
    "evolution_EW_buyandHold.iloc[-1, :] - evolution_EW_rebalancement5j.iloc[-1, :]"
   ]
  }
 ],
 "metadata": {
  "kernelspec": {
   "display_name": "Python 3",
   "language": "python",
   "name": "python3"
  },
  "language_info": {
   "codemirror_mode": {
    "name": "ipython",
    "version": 3
   },
   "file_extension": ".py",
   "mimetype": "text/x-python",
   "name": "python",
   "nbconvert_exporter": "python",
   "pygments_lexer": "ipython3",
   "version": "3.10.11"
  }
 },
 "nbformat": 4,
 "nbformat_minor": 2
}
